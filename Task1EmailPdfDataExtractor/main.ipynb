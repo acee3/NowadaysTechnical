{
 "cells": [
  {
   "cell_type": "code",
   "execution_count": 19,
   "metadata": {},
   "outputs": [],
   "source": [
    "from pdf2image import convert_from_path\n",
    "import pytesseract\n",
    "from PIL import Image\n",
    "\n",
    "import fitz\n",
    "\n",
    "from openai import OpenAI\n",
    "import openai\n",
    "import os\n",
    "from dotenv import load_dotenv, find_dotenv\n",
    "\n",
    "import json\n",
    "\n",
    "import csv"
   ]
  },
  {
   "cell_type": "code",
   "execution_count": 9,
   "metadata": {},
   "outputs": [],
   "source": [
    "# OLD TEXT EXTRACTOR\n",
    "\n",
    "# def pdf_to_images(path):\n",
    "#   images = convert_from_path(path)\n",
    "#   paths = []\n",
    "#   for i, image in enumerate(images):\n",
    "#     path = f'./pdf_images/page_{i+1}.jpg'\n",
    "#     paths.append(path)\n",
    "#     image.save(path, 'JPEG')\n",
    "#   return (images, paths)\n",
    "# def extract_text_from_image(path):\n",
    "#   image = Image.open(path)\n",
    "#   text = pytesseract.image_to_string(image)\n",
    "#   return text\n",
    "# def extract_text_from_each_page_pdf(path):\n",
    "#   (images, paths) = pdf_to_images(path)\n",
    "#   texts = []\n",
    "#   for path in paths:\n",
    "#     image = Image.open(path)\n",
    "#     text = pytesseract.image_to_string(image)\n",
    "#     texts.append(text)\n",
    "#   return texts"
   ]
  },
  {
   "cell_type": "code",
   "execution_count": 10,
   "metadata": {},
   "outputs": [],
   "source": [
    "def extract_text_from_each_page_pdf(path):\n",
    "  doc = fitz.open(path)\n",
    "  texts = []\n",
    "  for page in doc:\n",
    "    text = page.get_text()\n",
    "    texts.append(text)\n",
    "  return texts  "
   ]
  },
  {
   "cell_type": "code",
   "execution_count": 11,
   "metadata": {},
   "outputs": [],
   "source": [
    "def extract_text_from_pdf(path):\n",
    "  return '\\n'.join(extract_text_from_each_page_pdf(path))"
   ]
  },
  {
   "cell_type": "code",
   "execution_count": 12,
   "metadata": {},
   "outputs": [
    {
     "name": "stdout",
     "output_type": "stream",
     "text": [
      "Gizlilik Sınıflandırması : Hizmete Özel Gizlilik Sınıflandırması : Hizmete Özel Agency/Company : Get Nowadays Contact Name : Ina Chun Mail : ina@getnowadays.com Date : 29.03.2024 Dear Ina Chun, Thanks for your kind interest in Divan İstanbul. Please find below our offer for the event you are planning to organize at our Hotel. ACCOMMODATION DETAILS If higher category rooms are preferred, the following room price differences shall be added to the “Superior” room price. ROOM TYPE ROOM PRICE DIFFERENCE Deluxe € 20.00 Deluxe Partial Sea View € 35.00 One Bedroom Suite € 150.00 The room prices given above include open buffet breakfast, and 10% VAT and %2 accommodation tax is included to these prices. Our room prices are net and exclusive of commission. Any change in tax rates shall be automatically reflected to the prices. WI-FI is free of charge in rooms, conference halls, and public spaces. While the number of our Twin Rooms is 42, it is confirmed based on the occupancy in the hotel. Since our room prices are converted to TL based on the Euro exchange rate on the day of arrival, we will record your payment as a prepayment. Your total accommodation fee will be calculated as the TL equivalent of Euro, based on the Euro exchange rate on the day you check-in. Any changes that may occur in the exchange rate will be reflected plus/minus to your respectable side. DATE ROOM TYPE & NUMBER OF ROOMS SINGLE ROOM PRICE DOUBLE ROOM PRICE 07-10 October 2024 30 Superior Room 60 Deluxe Room € 220.00 € 240.00 € 240.00 € 260.00 Gizlilik Sınıflandırması : Hizmete Özel CONFERENCE/MEETING DETAILS DATE ORGANISATION PAX MEETING ROOM TYPE 08-10 October 2024 Meeting 90 Divan 1 Meeting 08-09 October 2024 Breakout 10 TBA Meeting Meeting Room Hall Size Facilities Toplantı Salonu İsmi Meeting Rooms Name Uzunluk Length Genişlik Width Yükseklik Height Alan m2 Area Sqm. Tiyatro Theatre Yuvarlak Masa / Banket Round Table / Banquet Sınıf Classroom U Masa U-Shape Blok Board Kokteyl Cocktail Gün Işığı Daylight Ekran Screen (Built-in / IP TV) Divan Balo Salonu 35,7 8,8 3,7 314,2 250 220 200 80 80 300 X Divan 1 18 8,8 3,7 158,5 125 110 100 40 40 150 X Divan 2 16 8,8 3,7 141 125 110 100 40 40 150 X Divan Fuaye 200 Meclis Balo Salonu 39,2 8,8 2,7 345 260 240 215 80 80 330 X Meclis 1 18 8,8 2,7 158,5 130 120 105 40 40 165 X Meclis 2 20 8,8 2,7 176 130 120 105 40 40 165 X Meclis Fuaye 200 Elmas 25 9,2 3,7 230 180 120 100 50 50 150 X Elmas Fuaye 50 Yakut 9,3 5,4 3,7 50,2 18 X Zümrüt 11,9 4,4 2,2 52,4 16 X X Safir 10,9 4,5 2,2 49,1 10 X X Gizlilik Sınıflandırması : Hizmete Özel MEETING PACKAGE CONTENT MEETING PACKAGE (FULL DAY) 85 € + % 20 VAT- Per Person, Daily Hall usage fee (09:00-18:00) Tea-coffee and cookies offering 2 times a day Open Buffet Lunch, 1 beverage Technical equipment (Barcovision, curtains, flipchart, notebook and pen) Free Internet Water and peppermint MEETING PACKAGE (HALF DAY) 80 € + % 20 VAT- Per Person, Daily Hall usage fee (12:00-18:00) Tea-coffee and cookies offering 1 times a day Open Buffet Lunch, 1 beverage Technical equipment (Barcovision, curtains, flipchart, notebook and pen) Free Internet Water and peppermint If unlimited tea-coffee service is requested for the duration of the meeting, € 10 per person shall be added to the meeting package. Breakout room rental fee is 750.-Euro + %20 VAT, per day, per room. If a meeting package for minimum 90 persons per day is to be purchased, the main conference hall specified shall be allocated to you free of charge for the meeting hours. In case of a change in the services demanded, number of persons, and/or in the meeting hours, increase will be demanded in the hall rental fee. Technical Equipment Flipchart Free-of-charge 1 podium microphone Free-of-charge Podium Free-of-charge Wireless microphone Free-of-charge Technician Free-of-charge Sound System Free-of-charge Gizlilik Sınıflandırması : Hizmete Özel FOOD/BEVERAGE DETAILS Gala Dinner € 75.00 (per Person) + % 20 VAT A welcome cocktail and appetizers (hazelnut, almond, olives) 4 course set menu dinner Cocktail (w/Limited Domestic Alcoholic Drinks) € 65.00 (per Person) + 20% VAT Chips, appetizers (hazelnut, almond, olives) 3 hot + 3 cold canapés %20 VAT and %10 Service Charge shall be added to all food-beverage and hall rental prices given above. Cloakroom is available free of charge. Our parking lot is operated by İSPARK, and daily parking fee per vehicle is TL 350 for our guests. The parking fee is inclusive of VAT. (The PARKING LOT is operated by the Metropolitan Municipality's \"İSPARK\", and our Hotel does not assume any responsibility for any inconvenience to occur). OPTION DATE No booking has been made for the aforementioned dates, and we shall gladly help you according to the hotel's occupancy in response to the final confirmation letter to be received from you. We would like to express our thanks again for your kind interest in Divan Hotels, and we will be glad to host you and your guests in our hotels. Best Regards, Berna Ekmekçiler Şirin Aykut Sales Executive Sales & Marketing Director Divan İstanbul Divan İstanbul / Bodrum\n"
     ]
    }
   ],
   "source": [
    "test_text2 = extract_text_from_pdf(\"./pdfs/quote2.pdf\")\n",
    "print(\" \".join(i for i in test_text2.split() if i))"
   ]
  },
  {
   "cell_type": "code",
   "execution_count": 13,
   "metadata": {},
   "outputs": [],
   "source": [
    "load_dotenv(find_dotenv())\n",
    "openai.api_key=os.getenv(\"OPENAI_API_KEY\")"
   ]
  },
  {
   "cell_type": "code",
   "execution_count": 24,
   "metadata": {},
   "outputs": [],
   "source": [
    "def extract_all_costs(text):\n",
    "    client = OpenAI()\n",
    "    response = client.chat.completions.create(\n",
    "        model=\"gpt-3.5-turbo-1106\",\n",
    "        response_format={\"type\": \"json_object\"},\n",
    "        messages=[\n",
    "            {\n",
    "                \"role\": \"system\",\n",
    "                \"content\": \"\"\"Search for the 'MeetingTotal', 'MeetingRate', 'MeetingNumberOfUnits', 'MeetingFixedCosts', 'SleepingTotal', 'SleepingRate', 'SleepingNumberOfUnits', and 'SleepingFixedCosts' in the user content. The wording may not be exact, so for example, 'SleepingRate' and 'SleepingNumberOfUnits' could be 'Exc Single Room' and 'Number of Rooms'. Extract the nearest number value following these phrases. The output should be a JSON object with keys 'MeetingTotal', 'MeetingRate', 'MeetingNumberOfUnits', 'MeetingFixedCosts', 'SleepingTotal', 'SleepingRate', 'SleepingNumberOfUnits', and 'SleepingFixedCosts' with the number values as their values as well as the key 'Currency' and the value of the type of currency. If any value is not included, make the value -1.\n",
    "                \n",
    "                <EXAMPLE TEXT> (Gizlilik Sınıflandırması : Hizmete Özel Gizlilik Sınıflandırması : Hizmete Özel Agency/Company : Get Nowadays Contact Name : Ina Chun Mail : ina@getnowadays.com Date : 29.03.2024 Dear Ina Chun, Thanks for your kind interest in Divan İstanbul. Please find below our offer for the event you are planning to organize at our Hotel. ACCOMMODATION DETAILS If higher category rooms are preferred, the following room price differences shall be added to the “Superior” room price. ROOM TYPE ROOM PRICE DIFFERENCE Deluxe € 20.00 Deluxe Partial Sea View € 35.00 One Bedroom Suite € 150.00 The room prices given above include open buffet breakfast, and 10% VAT and %2 accommodation tax is included to these prices. Our room prices are net and exclusive of commission. Any change in tax rates shall be automatically reflected to the prices. WI-FI is free of charge in rooms, conference halls, and public spaces. While the number of our Twin Rooms is 42, it is confirmed based on the occupancy in the hotel. Since our room prices are converted to TL based on the Euro exchange rate on the day of arrival, we will record your payment as a prepayment. Your total accommodation fee will be calculated as the TL equivalent of Euro, based on the Euro exchange rate on the day you check-in. Any changes that may occur in the exchange rate will be reflected plus/minus to your respectable side. DATE ROOM TYPE & NUMBER OF ROOMS SINGLE ROOM PRICE DOUBLE ROOM PRICE 07-10 October 2024 30 Superior Room 60 Deluxe Room € 220.00 € 240.00 € 240.00 € 260.00 Gizlilik Sınıflandırması : Hizmete Özel CONFERENCE/MEETING DETAILS DATE ORGANISATION PAX MEETING ROOM TYPE 08-10 October 2024 Meeting 90 Divan 1 Meeting 08-09 October 2024 Breakout 10 TBA Meeting Meeting Room Hall Size Facilities Toplantı Salonu İsmi Meeting Rooms Name Uzunluk Length Genişlik Width Yükseklik Height Alan m2 Area Sqm. Tiyatro Theatre Yuvarlak Masa / Banket Round Table / Banquet Sınıf Classroom U Masa U-Shape Blok Board Kokteyl Cocktail Gün Işığı Daylight Ekran Screen (Built-in / IP TV) Divan Balo Salonu 35,7 8,8 3,7 314,2 250 220 200 80 80 300 X Divan 1 18 8,8 3,7 158,5 125 110 100 40 40 150 X Divan 2 16 8,8 3,7 141 125 110 100 40 40 150 X Divan Fuaye 200 Meclis Balo Salonu 39,2 8,8 2,7 345 260 240 215 80 80 330 X Meclis 1 18 8,8 2,7 158,5 130 120 105 40 40 165 X Meclis 2 20 8,8 2,7 176 130 120 105 40 40 165 X Meclis Fuaye 200 Elmas 25 9,2 3,7 230 180 120 100 50 50 150 X Elmas Fuaye 50 Yakut 9,3 5,4 3,7 50,2 18 X Zümrüt 11,9 4,4 2,2 52,4 16 X X Safir 10,9 4,5 2,2 49,1 10 X X Gizlilik Sınıflandırması : Hizmete Özel MEETING PACKAGE CONTENT MEETING PACKAGE (FULL DAY) 85 € + % 20 VAT- Per Person, Daily Hall usage fee (09:00-18:00) Tea-coffee and cookies offering 2 times a day Open Buffet Lunch, 1 beverage Technical equipment (Barcovision, curtains, flipchart, notebook and pen) Free Internet Water and peppermint MEETING PACKAGE (HALF DAY) 80 € + % 20 VAT- Per Person, Daily Hall usage fee (12:00-18:00) Tea-coffee and cookies offering 1 times a day Open Buffet Lunch, 1 beverage Technical equipment (Barcovision, curtains, flipchart, notebook and pen) Free Internet Water and peppermint If unlimited tea-coffee service is requested for the duration of the meeting, € 10 per person shall be added to the meeting package. Breakout room rental fee is 750.-Euro + %20 VAT, per day, per room. If a meeting package for minimum 90 persons per day is to be purchased, the main conference hall specified shall be allocated to you free of charge for the meeting hours. In case of a change in the services demanded, number of persons, and/or in the meeting hours, increase will be demanded in the hall rental fee. Technical Equipment Flipchart Free-of-charge 1 podium microphone Free-of-charge Podium Free-of-charge Wireless microphone Free-of-charge Technician Free-of-charge Sound System Free-of-charge Gizlilik Sınıflandırması : Hizmete Özel FOOD/BEVERAGE DETAILS Gala Dinner € 75.00 (per Person) + % 20 VAT A welcome cocktail and appetizers (hazelnut, almond, olives) 4 course set menu dinner Cocktail (w/Limited Domestic Alcoholic Drinks) € 65.00 (per Person) + 20% VAT Chips, appetizers (hazelnut, almond, olives) 3 hot + 3 cold canapés %20 VAT and %10 Service Charge shall be added to all food-beverage and hall rental prices given above. Cloakroom is available free of charge. Our parking lot is operated by İSPARK, and daily parking fee per vehicle is TL 350 for our guests. The parking fee is inclusive of VAT. (The PARKING LOT is operated by the Metropolitan Municipality's \"İSPARK\", and our Hotel does not assume any responsibility for any inconvenience to occur). OPTION DATE No booking has been made for the aforementioned dates, and we shall gladly help you according to the hotel's occupancy in response to the final confirmation letter to be received from you. We would like to express our thanks again for your kind interest in Divan Hotels, and we will be glad to host you and your guests in our hotels. Best Regards, Berna Ekmekçiler Şirin Aykut Sales Executive Sales & Marketing Director Divan İstanbul Divan İstanbul / Bodrum)\n",
    "                \n",
    "                <EXAMPLE RESPONSE>\n",
    "                {\n",
    "                    \"MeetingTotal\": -1,\n",
    "                    \"MeetingRate\": 30,\n",
    "                    \"MeetingNumberOfUnits\": 90,\n",
    "                    \"MeetingFixedCosts\": -1,\n",
    "                    \"SleepingTotal\": -1,\n",
    "                    \"SleepingRate\": 100,\n",
    "                    \"SleepingNumberOfUnits\": 90,\n",
    "                    \"SleepingFixedCosts\": -1,\n",
    "                    \"Currency\": Euro\n",
    "                }\n",
    "                \"\"\",\n",
    "            },\n",
    "            {\"role\": \"user\", \"content\": text},\n",
    "        ],\n",
    "    )\n",
    "    return json.loads(response.choices[0].message.content)"
   ]
  },
  {
   "cell_type": "code",
   "execution_count": 25,
   "metadata": {},
   "outputs": [],
   "source": [
    "def extract_pdf_quote_info(path):\n",
    "  return extract_all_costs(extract_text_from_pdf(path))"
   ]
  },
  {
   "cell_type": "code",
   "execution_count": 28,
   "metadata": {},
   "outputs": [],
   "source": [
    "def final_csv_pdf(path):\n",
    "  quote_info = extract_pdf_quote_info(path)\n",
    "  with open('output.csv', 'w', newline='') as file:\n",
    "    writer = csv.writer(file)\n",
    "    field = [\"Total Quote\", \"Meeting Room Total\", \"Sleeping Room Total\", \"Currency\"]\n",
    "    writer.writerow(field)\n",
    "      \n",
    "    meeting_total = quote_info[\"MeetingTotal\"]\n",
    "    if meeting_total == -1 and quote_info[\"MeetingRate\"] != -1 and quote_info[\"MeetingNumberOfUnits\"] != -1:\n",
    "      meeting_total = quote_info[\"MeetingRate\"] * quote_info[\"MeetingNumberOfUnits\"]\n",
    "      meeting_total += quote_info[\"MeetingFixedCosts\"] if quote_info[\"MeetingFixedCosts\"] != -1 else 0\n",
    "    \n",
    "    sleeping_total = quote_info[\"SleepingTotal\"]\n",
    "    if sleeping_total == -1 and quote_info[\"SleepingRate\"] != -1 and quote_info[\"SleepingNumberOfUnits\"] != -1:\n",
    "      sleeping_total = quote_info[\"SleepingRate\"] * quote_info[\"SleepingNumberOfUnits\"]\n",
    "      sleeping_total += quote_info[\"SleepingFixedCosts\"] if quote_info[\"SleepingFixedCosts\"] != -1 else 0\n",
    "    \n",
    "    writer.writerow([sleeping_total + meeting_total, meeting_total, sleeping_total, quote_info[\"Currency\"]])"
   ]
  },
  {
   "cell_type": "code",
   "execution_count": 29,
   "metadata": {},
   "outputs": [],
   "source": [
    "final_csv_pdf(\"./pdfs/quote1.pdf\")"
   ]
  },
  {
   "cell_type": "code",
   "execution_count": null,
   "metadata": {},
   "outputs": [],
   "source": []
  }
 ],
 "metadata": {
  "kernelspec": {
   "display_name": "nowadaysenv",
   "language": "python",
   "name": "python3"
  },
  "language_info": {
   "codemirror_mode": {
    "name": "ipython",
    "version": 3
   },
   "file_extension": ".py",
   "mimetype": "text/x-python",
   "name": "python",
   "nbconvert_exporter": "python",
   "pygments_lexer": "ipython3",
   "version": "3.11.8"
  }
 },
 "nbformat": 4,
 "nbformat_minor": 2
}
